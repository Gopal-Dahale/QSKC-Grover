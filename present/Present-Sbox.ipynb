{
 "cells": [
  {
   "cell_type": "code",
   "execution_count": 1,
   "id": "0c76098d",
   "metadata": {
    "ExecuteTime": {
     "end_time": "2022-05-09T06:33:12.249486Z",
     "start_time": "2022-05-09T06:33:12.196752Z"
    }
   },
   "outputs": [],
   "source": [
    "from qiskit import *\n",
    "from qiskit import Aer, transpile\n",
    "from qiskit.visualization import plot_histogram\n",
    "import numpy as np\n",
    "from qiskit import IBMQ\n",
    "from qiskit.converters import circuit_to_dag\n",
    "import json\n",
    "from qiskit.tools.monitor import job_monitor\n",
    "%matplotlib inline"
   ]
  },
  {
   "cell_type": "markdown",
   "id": "5300d01a",
   "metadata": {},
   "source": [
    "## Sbox circuit"
   ]
  },
  {
   "cell_type": "code",
   "execution_count": 2,
   "id": "d5d7f70b",
   "metadata": {
    "ExecuteTime": {
     "end_time": "2022-05-09T06:44:46.495014Z",
     "start_time": "2022-05-09T06:44:45.597593Z"
    }
   },
   "outputs": [
    {
     "data": {
      "image/png": "[encoded data removed]",
      "text/plain": [
       "<Figure size 748.797x264.88 with 1 Axes>"
      ]
     },
     "execution_count": 2,
     "metadata": {},
     "output_type": "execute_result"
    }
   ],
   "source": [
    "sbox = QuantumCircuit(4)\n",
    "qubits = [\n",
    "    [2,1],\n",
    "    [1,2,3],\n",
    "    [1,3,2],\n",
    "    [0,2,1],\n",
    "    [3,2],\n",
    "    [1,2],\n",
    "    [3],\n",
    "    [3,0],\n",
    "    [0,1],\n",
    "    [0],\n",
    "    [1,2,3],\n",
    "]\n",
    "\n",
    "for i in qubits:\n",
    "    if len(i) == 1:\n",
    "        sbox.x(i[0])\n",
    "    elif len(i) == 2:\n",
    "        sbox.cnot(i[0],i[1])\n",
    "    elif len(i) == 3:\n",
    "        sbox.toffoli(i[0],i[1],i[2])\n",
    "    else:\n",
    "        sbox.mct(i[:-1],i[-1])\n",
    "\n",
    "sbox.swap(2,1)\n",
    "sbox.swap(2,3)\n",
    "\n",
    "sbox.draw('mpl')"
   ]
  },
  {
   "cell_type": "markdown",
   "id": "c68a0541",
   "metadata": {},
   "source": [
    "## Verify sbox"
   ]
  },
  {
   "cell_type": "code",
   "execution_count": 5,
   "id": "156b72cb",
   "metadata": {
    "ExecuteTime": {
     "end_time": "2022-05-09T06:44:47.078265Z",
     "start_time": "2022-05-09T06:44:46.502111Z"
    }
   },
   "outputs": [
    {
     "name": "stdout",
     "output_type": "stream",
     "text": [
      "1100\n",
      "0101\n",
      "0110\n",
      "1011\n",
      "1001\n",
      "0000\n",
      "1010\n",
      "1101\n",
      "0011\n",
      "1110\n",
      "1111\n",
      "1000\n",
      "0100\n",
      "0111\n",
      "0001\n",
      "0010\n",
      "Verified Sbox\n"
     ]
    }
   ],
   "source": [
    "sbox_actual = [12, 5, 6, 11, 9, 0, 10, 13, 3, 14, 15, 8, 4, 7, 1, 2]\n",
    "\n",
    "shots = 10\n",
    "simulator = Aer.get_backend('qasm_simulator')\n",
    "\n",
    "for i in range(16):\n",
    "    x = bin(i)[2:].zfill(4)[::-1]\n",
    "    qc = QuantumCircuit(4)\n",
    "    for index, j in enumerate(x):\n",
    "        if j == '1':\n",
    "            qc.x(index)\n",
    "    qc = qc.compose(sbox)\n",
    "    qc.measure_all()\n",
    "    res = execute(qc,backend=simulator, shots=shots).result()\n",
    "    counts = res.get_counts()\n",
    "    out = list(counts.keys())[0]\n",
    "    print(out)\n",
    "    assert(int(out,2) == sbox_actual[i])\n",
    "    del qc\n",
    "print('Verified Sbox')"
   ]
  },
  {
   "cell_type": "code",
   "execution_count": 10,
   "id": "19b5be27",
   "metadata": {},
   "outputs": [
    {
     "name": "stdout",
     "output_type": "stream",
     "text": [
      "Sbox depth 11\n",
      "Sbox width 4\n",
      "Sbox size 13\n",
      "Sbox gates OrderedDict([('cx', 5), ('ccx', 4), ('x', 2), ('swap', 2)])\n"
     ]
    }
   ],
   "source": [
    "print(\"Sbox depth\", sbox.depth())\n",
    "print(\"Sbox width\", sbox.width())\n",
    "print(\"Sbox size\", sbox.size())\n",
    "print(\"Sbox gates\", sbox.count_ops())"
   ]
  },
  {
   "cell_type": "code",
   "execution_count": 8,
   "id": "85513249",
   "metadata": {
    "ExecuteTime": {
     "end_time": "2022-05-09T06:46:46.656117Z",
     "start_time": "2022-05-09T06:46:46.627651Z"
    }
   },
   "outputs": [],
   "source": [
    "with open('./latex/sbox.tex','w') as f:\n",
    "    data = sbox.draw('latex_source')\n",
    "    f.write(data)"
   ]
  }
 ],
 "metadata": {
  "interpreter": {
   "hash": "31f2aee4e71d21fbe5cf8b01ff0e069b9275f58929596ceb00d14d90e3e16cd6"
  },
  "kernelspec": {
   "display_name": "Python 3.10.4 64-bit",
   "language": "python",
   "name": "python3"
  },
  "language_info": {
   "codemirror_mode": {
    "name": "ipython",
    "version": 3
   },
   "file_extension": ".py",
   "mimetype": "text/x-python",
   "name": "python",
   "nbconvert_exporter": "python",
   "pygments_lexer": "ipython3",
   "version": "3.10.4"
  },
  "latex_envs": {
   "LaTeX_envs_menu_present": true,
   "autoclose": false,
   "autocomplete": true,
   "bibliofile": "biblio.bib",
   "cite_by": "apalike",
   "current_citInitial": 1,
   "eqLabelWithNumbers": true,
   "eqNumInitial": 1,
   "hotkeys": {
    "equation": "Ctrl-E",
    "itemize": "Ctrl-I"
   },
   "labels_anchors": false,
   "latex_user_defs": false,
   "report_style_numbering": false,
   "user_envs_cfg": false
  },
  "toc": {
   "base_numbering": 1,
   "nav_menu": {},
   "number_sections": true,
   "sideBar": true,
   "skip_h1_title": false,
   "title_cell": "Table of Contents",
   "title_sidebar": "Contents",
   "toc_cell": false,
   "toc_position": {},
   "toc_section_display": true,
   "toc_window_display": false
  }
 },
 "nbformat": 4,
 "nbformat_minor": 5
}
