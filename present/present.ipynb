{
 "cells": [
  {
   "cell_type": "code",
   "execution_count": 1,
   "id": "0c76098d",
   "metadata": {
    "ExecuteTime": {
     "end_time": "2022-05-02T18:34:10.217521Z",
     "start_time": "2022-05-02T18:34:09.052882Z"
    }
   },
   "outputs": [],
   "source": [
    "from qiskit import *\n",
    "from qiskit import Aer, transpile\n",
    "from qiskit.visualization import plot_histogram\n",
    "import numpy as np\n",
    "from qiskit import IBMQ\n",
    "from qiskit.converters import circuit_to_dag\n",
    "import json\n",
    "from qiskit.tools.monitor import job_monitor\n",
    "%matplotlib inline"
   ]
  },
  {
   "cell_type": "code",
   "execution_count": 3,
   "id": "d5d7f70b",
   "metadata": {
    "ExecuteTime": {
     "end_time": "2022-05-02T18:34:59.644166Z",
     "start_time": "2022-05-02T18:34:59.240726Z"
    }
   },
   "outputs": [
    {
     "data": {
      "image/png": "[encoded data removed]",
      "text/plain": [
       "<Figure size 748.797x264.88 with 1 Axes>"
      ]
     },
     "execution_count": 3,
     "metadata": {},
     "output_type": "execute_result"
    }
   ],
   "source": [
    "sbox = QuantumCircuit(4)\n",
    "qubits = [\n",
    "    [2,1],\n",
    "    [1,2,3],\n",
    "    [1,3,2],\n",
    "    [0,2,1],\n",
    "    [3,2],\n",
    "    [1,2],\n",
    "    [3],\n",
    "    [3,0],\n",
    "    [0,1],\n",
    "    [0],\n",
    "    [1,2,3],\n",
    "]\n",
    "\n",
    "for i in qubits:\n",
    "    if len(i) == 1:\n",
    "        sbox.x(i[0])\n",
    "    elif len(i) == 2:\n",
    "        sbox.cnot(i[0],i[1])\n",
    "    elif len(i) == 3:\n",
    "        sbox.toffoli(i[0],i[1],i[2])\n",
    "    else:\n",
    "        sbox.mct(i[:-1],i[-1])\n",
    "\n",
    "sbox.swap(3,1)\n",
    "sbox.swap(2,3)\n",
    "\n",
    "sbox.draw('mpl')"
   ]
  },
  {
   "cell_type": "code",
   "execution_count": 4,
   "id": "85513249",
   "metadata": {
    "ExecuteTime": {
     "end_time": "2022-05-02T18:36:42.279724Z",
     "start_time": "2022-05-02T18:36:42.254097Z"
    }
   },
   "outputs": [],
   "source": [
    "with open('./latex/sbox.tex','w') as f:\n",
    "    data = sbox.draw('latex_source')\n",
    "    f.write(data)"
   ]
  },
  {
   "cell_type": "code",
   "execution_count": null,
   "id": "6104fe69",
   "metadata": {},
   "outputs": [],
   "source": []
  }
 ],
 "metadata": {
  "kernelspec": {
   "display_name": "Python 3 (ipykernel)",
   "language": "python",
   "name": "python3"
  },
  "language_info": {
   "codemirror_mode": {
    "name": "ipython",
    "version": 3
   },
   "file_extension": ".py",
   "mimetype": "text/x-python",
   "name": "python",
   "nbconvert_exporter": "python",
   "pygments_lexer": "ipython3",
   "version": "3.10.4"
  },
  "latex_envs": {
   "LaTeX_envs_menu_present": true,
   "autoclose": false,
   "autocomplete": true,
   "bibliofile": "biblio.bib",
   "cite_by": "apalike",
   "current_citInitial": 1,
   "eqLabelWithNumbers": true,
   "eqNumInitial": 1,
   "hotkeys": {
    "equation": "Ctrl-E",
    "itemize": "Ctrl-I"
   },
   "labels_anchors": false,
   "latex_user_defs": false,
   "report_style_numbering": false,
   "user_envs_cfg": false
  },
  "toc": {
   "base_numbering": 1,
   "nav_menu": {},
   "number_sections": true,
   "sideBar": true,
   "skip_h1_title": false,
   "title_cell": "Table of Contents",
   "title_sidebar": "Contents",
   "toc_cell": false,
   "toc_position": {},
   "toc_section_display": true,
   "toc_window_display": false
  }
 },
 "nbformat": 4,
 "nbformat_minor": 5
}
