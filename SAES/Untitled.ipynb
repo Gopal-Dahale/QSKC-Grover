{
 "cells": [
  {
   "cell_type": "code",
   "execution_count": 1,
   "id": "b07c254d",
   "metadata": {
    "ExecuteTime": {
     "end_time": "2022-04-12T06:40:06.265798Z",
     "start_time": "2022-04-12T06:40:01.906959Z"
    }
   },
   "outputs": [],
   "source": [
    "from projectq import MainEngine\n",
    "from projectq import *\n",
    "from projectq.ops import *\n",
    "from projectq.backends import CircuitDrawer\n",
    "from projectq.setups.default import get_engine_list\n",
    "from projectq.libs.hist import histogram\n",
    "import matplotlib.pyplot as plt\n",
    "%matplotlib inline"
   ]
  },
  {
   "cell_type": "code",
   "execution_count": 3,
   "id": "fdc22a62",
   "metadata": {
    "ExecuteTime": {
     "end_time": "2022-04-12T06:40:35.320187Z",
     "start_time": "2022-04-12T06:40:35.309332Z"
    }
   },
   "outputs": [],
   "source": [
    "eng = MainEngine(engine_list=get_engine_list())\n"
   ]
  },
  {
   "cell_type": "code",
   "execution_count": null,
   "id": "32ca5d25",
   "metadata": {
    "ExecuteTime": {
     "start_time": "2022-04-12T06:43:12.303Z"
    }
   },
   "outputs": [],
   "source": [
    "reg = eng.allocate_qureg(32)\n",
    "All(H) | reg\n",
    "eng.flush()\n",
    "All(Measure) | qureg"
   ]
  },
  {
   "cell_type": "code",
   "execution_count": 7,
   "id": "f48da551",
   "metadata": {
    "ExecuteTime": {
     "end_time": "2022-04-12T06:43:05.029591Z",
     "start_time": "2022-04-12T06:43:04.831417Z"
    }
   },
   "outputs": [
    {
     "ename": "NotYetMeasuredError",
     "evalue": "\nError: Can't access measurement result for qubit #0. The problem may be:\n\t1. Your code lacks a measurement statement\n\t2. You have not yet called engine.flush() to force execution of your code\n\t3. The underlying backend failed to register the measurement result\n",
     "output_type": "error",
     "traceback": [
      "\u001b[0;31m---------------------------------------------------------------------------\u001b[0m",
      "\u001b[0;31mNotYetMeasuredError\u001b[0m                       Traceback (most recent call last)",
      "Input \u001b[0;32mIn [7]\u001b[0m, in \u001b[0;36m<module>\u001b[0;34m\u001b[0m\n\u001b[0;32m----> 1\u001b[0m \u001b[38;5;28;43mint\u001b[39;49m\u001b[43m(\u001b[49m\u001b[43mreg\u001b[49m\u001b[43m[\u001b[49m\u001b[38;5;241;43m0\u001b[39;49m\u001b[43m]\u001b[49m\u001b[43m)\u001b[49m\n",
      "File \u001b[0;32m~/.local/lib/python3.9/site-packages/projectq/types/_qubit.py:63\u001b[0m, in \u001b[0;36mBasicQubit.__int__\u001b[0;34m(self)\u001b[0m\n\u001b[1;32m     61\u001b[0m \u001b[38;5;28;01mdef\u001b[39;00m \u001b[38;5;21m__int__\u001b[39m(\u001b[38;5;28mself\u001b[39m):\n\u001b[1;32m     62\u001b[0m     \u001b[38;5;124;03m\"\"\"Access the result of a previous measurement and return as integer (0 / 1).\"\"\"\u001b[39;00m\n\u001b[0;32m---> 63\u001b[0m     \u001b[38;5;28;01mreturn\u001b[39;00m \u001b[38;5;28mint\u001b[39m(\u001b[38;5;28;43mbool\u001b[39;49m\u001b[43m(\u001b[49m\u001b[38;5;28;43mself\u001b[39;49m\u001b[43m)\u001b[49m)\n",
      "File \u001b[0;32m~/.local/lib/python3.9/site-packages/projectq/types/_qubit.py:59\u001b[0m, in \u001b[0;36mBasicQubit.__bool__\u001b[0;34m(self)\u001b[0m\n\u001b[1;32m     57\u001b[0m \u001b[38;5;28;01mdef\u001b[39;00m \u001b[38;5;21m__bool__\u001b[39m(\u001b[38;5;28mself\u001b[39m):\n\u001b[1;32m     58\u001b[0m     \u001b[38;5;124;03m\"\"\"Access the result of a previous measurement and return False / True (0 / 1).\"\"\"\u001b[39;00m\n\u001b[0;32m---> 59\u001b[0m     \u001b[38;5;28;01mreturn\u001b[39;00m \u001b[38;5;28;43mself\u001b[39;49m\u001b[38;5;241;43m.\u001b[39;49m\u001b[43mengine\u001b[49m\u001b[38;5;241;43m.\u001b[39;49m\u001b[43mmain_engine\u001b[49m\u001b[38;5;241;43m.\u001b[39;49m\u001b[43mget_measurement_result\u001b[49m\u001b[43m(\u001b[49m\u001b[38;5;28;43mself\u001b[39;49m\u001b[43m)\u001b[49m\n",
      "File \u001b[0;32m~/.local/lib/python3.9/site-packages/projectq/cengines/_main.py:261\u001b[0m, in \u001b[0;36mMainEngine.get_measurement_result\u001b[0;34m(self, qubit)\u001b[0m\n\u001b[1;32m    259\u001b[0m \u001b[38;5;28;01mif\u001b[39;00m qubit\u001b[38;5;241m.\u001b[39mid \u001b[38;5;129;01min\u001b[39;00m \u001b[38;5;28mself\u001b[39m\u001b[38;5;241m.\u001b[39m_measurements:\n\u001b[1;32m    260\u001b[0m     \u001b[38;5;28;01mreturn\u001b[39;00m \u001b[38;5;28mself\u001b[39m\u001b[38;5;241m.\u001b[39m_measurements[qubit\u001b[38;5;241m.\u001b[39mid]\n\u001b[0;32m--> 261\u001b[0m \u001b[38;5;28;01mraise\u001b[39;00m NotYetMeasuredError(\n\u001b[1;32m    262\u001b[0m     \u001b[38;5;124m\"\u001b[39m\u001b[38;5;130;01m\\n\u001b[39;00m\u001b[38;5;124mError: Can\u001b[39m\u001b[38;5;124m'\u001b[39m\u001b[38;5;124mt access measurement result for qubit #\u001b[39m\u001b[38;5;124m\"\u001b[39m \u001b[38;5;241m+\u001b[39m \u001b[38;5;28mstr\u001b[39m(qubit\u001b[38;5;241m.\u001b[39mid) \u001b[38;5;241m+\u001b[39m \u001b[38;5;124m\"\u001b[39m\u001b[38;5;124m. The problem may be:\u001b[39m\u001b[38;5;130;01m\\n\u001b[39;00m\u001b[38;5;130;01m\\t\u001b[39;00m\u001b[38;5;124m\"\u001b[39m\n\u001b[1;32m    263\u001b[0m     \u001b[38;5;124m\"\u001b[39m\u001b[38;5;124m1. Your code lacks a measurement statement\u001b[39m\u001b[38;5;130;01m\\n\u001b[39;00m\u001b[38;5;130;01m\\t\u001b[39;00m\u001b[38;5;124m\"\u001b[39m\n\u001b[1;32m    264\u001b[0m     \u001b[38;5;124m\"\u001b[39m\u001b[38;5;124m2. You have not yet called engine.flush() to force execution of your code\u001b[39m\u001b[38;5;130;01m\\n\u001b[39;00m\u001b[38;5;130;01m\\t\u001b[39;00m\u001b[38;5;124m\"\u001b[39m\n\u001b[1;32m    265\u001b[0m     \u001b[38;5;124m\"\u001b[39m\u001b[38;5;124m3. The \u001b[39m\u001b[38;5;124m\"\u001b[39m\n\u001b[1;32m    266\u001b[0m     \u001b[38;5;124m\"\u001b[39m\u001b[38;5;124munderlying backend failed to register the measurement result\u001b[39m\u001b[38;5;130;01m\\n\u001b[39;00m\u001b[38;5;124m\"\u001b[39m\n\u001b[1;32m    267\u001b[0m )\n",
      "\u001b[0;31mNotYetMeasuredError\u001b[0m: \nError: Can't access measurement result for qubit #0. The problem may be:\n\t1. Your code lacks a measurement statement\n\t2. You have not yet called engine.flush() to force execution of your code\n\t3. The underlying backend failed to register the measurement result\n"
     ]
    }
   ],
   "source": [
    "int(reg[0])"
   ]
  },
  {
   "cell_type": "code",
   "execution_count": null,
   "id": "9a35a44d",
   "metadata": {},
   "outputs": [],
   "source": []
  }
 ],
 "metadata": {
  "kernelspec": {
   "display_name": "Python 3 (ipykernel)",
   "language": "python",
   "name": "python3"
  },
  "language_info": {
   "codemirror_mode": {
    "name": "ipython",
    "version": 3
   },
   "file_extension": ".py",
   "mimetype": "text/x-python",
   "name": "python",
   "nbconvert_exporter": "python",
   "pygments_lexer": "ipython3",
   "version": "3.9.7"
  },
  "latex_envs": {
   "LaTeX_envs_menu_present": true,
   "autoclose": false,
   "autocomplete": true,
   "bibliofile": "biblio.bib",
   "cite_by": "apalike",
   "current_citInitial": 1,
   "eqLabelWithNumbers": true,
   "eqNumInitial": 1,
   "hotkeys": {
    "equation": "Ctrl-E",
    "itemize": "Ctrl-I"
   },
   "labels_anchors": false,
   "latex_user_defs": false,
   "report_style_numbering": false,
   "user_envs_cfg": false
  },
  "toc": {
   "base_numbering": 1,
   "nav_menu": {},
   "number_sections": true,
   "sideBar": true,
   "skip_h1_title": false,
   "title_cell": "Table of Contents",
   "title_sidebar": "Contents",
   "toc_cell": false,
   "toc_position": {},
   "toc_section_display": true,
   "toc_window_display": false
  }
 },
 "nbformat": 4,
 "nbformat_minor": 5
}
