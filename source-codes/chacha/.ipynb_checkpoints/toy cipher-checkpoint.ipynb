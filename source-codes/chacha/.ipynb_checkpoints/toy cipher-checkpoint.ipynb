{
 "cells": [
  {
   "cell_type": "code",
   "execution_count": 2,
   "metadata": {
    "ExecuteTime": {
     "end_time": "2022-04-10T11:28:01.830051Z",
     "start_time": "2022-04-10T11:27:56.933936Z"
    }
   },
   "outputs": [
    {
     "name": "stdout",
     "output_type": "stream",
     "text": [
      "{'100 110 001 100': 1}\n"
     ]
    },
    {
     "data": {
      "image/png": "[encoded data removed]",
      "text/plain": [
       "<Figure size 504x360 with 1 Axes>"
      ]
     },
     "execution_count": 2,
     "metadata": {},
     "output_type": "execute_result"
    }
   ],
   "source": [
    "#importing required libraries\n",
    "from qiskit import QuantumCircuit, QuantumRegister, ClassicalRegister, Aer, execute\n",
    "from qiskit.visualization import plot_histogram\n",
    "simulator = Aer.get_backend('qasm_simulator')\n",
    "\n",
    "\n",
    "#function for addition modulo 2^n\n",
    "def adder(qc,a,b):\n",
    "    for i in range(1,n):\n",
    "        qc.cx(b[i],a[i])\n",
    "    \n",
    "    for i in reversed(range(1,n-1)):\n",
    "        qc.cx(b[i],b[i+1])\n",
    "    \n",
    "    for i in range(n-1):\n",
    "        qc.ccx(a[i],b[i],b[i+1])\n",
    "    \n",
    "    for i in reversed(range(1,n)):\n",
    "        qc.cx(b[i],a[i])\n",
    "        qc.ccx(a[i-1],b[i-1],b[i])\n",
    "    \n",
    "    for i in range(1,n-1):\n",
    "        qc.cx(b[i],b[i+1])\n",
    "    \n",
    "    for i in range(n):\n",
    "        qc.cx(b[i],a[i])\n",
    "        \n",
    "#function for rotating a word left\n",
    "def rotlt(qc,a):\n",
    "    for i in reversed(range(n-1)):\n",
    "        qc.cx(a[i+1],a[i])\n",
    "        qc.cx(a[i],a[i+1])\n",
    "        qc.cx(a[i+1],a[i]) \n",
    "        \n",
    "#function for the quarter round\n",
    "def qtrround(qc,a,b):\n",
    "    adder(qc,a,b)\n",
    "    for i in range(n):\n",
    "        qc.cx(a[i],b[i])\n",
    "    for i in range(2):\n",
    "        rotlt(qc,b)\n",
    "        \n",
    "#function for updating the state \n",
    "def stateupdate(qc):\n",
    "    qtrround(qc,con,iv0)\n",
    "    qtrround(qc,iv1,key)\n",
    "    qtrround(qc,key,con)\n",
    "    qtrround(qc,iv0,iv1)\n",
    "    \n",
    "    \n",
    "#function for the last step addition\n",
    "def laststep(qc):\n",
    "    adder(qc,con,conp)\n",
    "    adder(qc,iv0,iv0p)\n",
    "    adder(qc,iv1,iv1p)\n",
    "    adder(qc,key,keyp)\n",
    "    \n",
    "#preparing the quantum circuit\n",
    "\n",
    "n = 3 #the size of each word in the matrix, here we use 3 as the number of qubits available is 32 in IBMQ simulator\n",
    "con = QuantumRegister(n, name = 'con')\n",
    "conp = QuantumRegister(n, name = 'conp')\n",
    "iv0 = QuantumRegister(n, name = 'iv0')\n",
    "iv0p = QuantumRegister(n, name = 'iv0p')\n",
    "iv1 = QuantumRegister(n, name = 'iv1')\n",
    "iv1p = QuantumRegister(n, name = 'iv1p')\n",
    "key = QuantumRegister(n, name = 'key')\n",
    "keyp = QuantumRegister(n, name = 'keyp')\n",
    "cl1 = ClassicalRegister(3)\n",
    "cl2 = ClassicalRegister(3)\n",
    "cl3 = ClassicalRegister(3)\n",
    "cl4 = ClassicalRegister(3)\n",
    "qc = QuantumCircuit(con,iv0,iv1,key,conp,iv0p,iv1p,keyp,cl1,cl2,cl3,cl4)\n",
    "\n",
    "#initializing the qubits to the given values\n",
    "qc.x(iv1[2])\n",
    "qc.x(iv0[1])\n",
    "qc.x(con[0])\n",
    "\n",
    "qc.x(key[0])\n",
    "qc.x(key[1])\n",
    "qc.x(key[2])\n",
    "\n",
    "#storing the initial matrix for the last step addition\n",
    "for i in range(n):\n",
    "    qc.cx(con[i],conp[i])\n",
    "    qc.cx(iv0[i],iv0p[i])\n",
    "    qc.cx(iv1[i],iv1p[i])\n",
    "    qc.cx(key[i],keyp[i])\n",
    "    \n",
    "stateupdate(qc)\n",
    "laststep(qc)\n",
    "\n",
    "for i in range(n):\n",
    "    qc.measure(con[i],cl1[i])  \n",
    "for i in range(n):\n",
    "    qc.measure(iv0[i],cl2[i])\n",
    "for i in range(n):\n",
    "    qc.measure(iv1[i],cl3[i])\n",
    "for i in range(n):\n",
    "    qc.measure(key[i],cl4[i])\n",
    "\n",
    "    \n",
    "\n",
    "job = execute(qc, simulator, shots=1)\n",
    "result = job.result()\n",
    "counts = result.get_counts(qc)\n",
    "print(counts)\n",
    "plot_histogram(counts) "
   ]
  },
  {
   "cell_type": "code",
   "execution_count": null,
   "metadata": {},
   "outputs": [],
   "source": []
  }
 ],
 "metadata": {
  "kernelspec": {
   "display_name": "Python 3 (ipykernel)",
   "language": "python",
   "name": "python3"
  },
  "language_info": {
   "codemirror_mode": {
    "name": "ipython",
    "version": 3
   },
   "file_extension": ".py",
   "mimetype": "text/x-python",
   "name": "python",
   "nbconvert_exporter": "python",
   "pygments_lexer": "ipython3",
   "version": "3.9.7"
  },
  "latex_envs": {
   "LaTeX_envs_menu_present": true,
   "autoclose": false,
   "autocomplete": true,
   "bibliofile": "biblio.bib",
   "cite_by": "apalike",
   "current_citInitial": 1,
   "eqLabelWithNumbers": true,
   "eqNumInitial": 1,
   "hotkeys": {
    "equation": "Ctrl-E",
    "itemize": "Ctrl-I"
   },
   "labels_anchors": false,
   "latex_user_defs": false,
   "report_style_numbering": false,
   "user_envs_cfg": false
  },
  "toc": {
   "base_numbering": 1,
   "nav_menu": {},
   "number_sections": true,
   "sideBar": true,
   "skip_h1_title": false,
   "title_cell": "Table of Contents",
   "title_sidebar": "Contents",
   "toc_cell": false,
   "toc_position": {},
   "toc_section_display": true,
   "toc_window_display": false
  }
 },
 "nbformat": 4,
 "nbformat_minor": 2
}
