{
 "cells": [
  {
   "cell_type": "code",
   "execution_count": 1,
   "id": "4be9c3b1",
   "metadata": {
    "ExecuteTime": {
     "end_time": "2022-05-09T06:50:36.899053Z",
     "start_time": "2022-05-09T06:50:36.878755Z"
    }
   },
   "outputs": [],
   "source": [
    "#initialization\n",
    "import matplotlib.pyplot as plt\n",
    "import numpy as np\n",
    "\n",
    "# importing Qiskit\n",
    "from qiskit import *\n",
    "from qiskit import IBMQ, Aer, assemble, transpile\n",
    "from qiskit import QuantumCircuit, ClassicalRegister, QuantumRegister\n",
    "from qiskit.providers.ibmq import least_busy\n",
    "\n",
    "# import basic plot tools\n",
    "from qiskit.visualization import plot_histogram, array_to_latex\n",
    "from qiskit.quantum_info import Statevector"
   ]
  },
  {
   "cell_type": "code",
   "execution_count": 2,
   "id": "59cc2cb1",
   "metadata": {
    "ExecuteTime": {
     "end_time": "2022-05-09T06:50:37.589502Z",
     "start_time": "2022-05-09T06:50:37.581242Z"
    }
   },
   "outputs": [],
   "source": [
    "n = 6  # Maximum length of a input\n",
    "N = 2**n # Total number of inputs (Domain)\n",
    "X = range(N) # Domain of hash function\n",
    "hash_bits = 5 # Maximum length of hash"
   ]
  },
  {
   "cell_type": "markdown",
   "id": "6544c73b",
   "metadata": {},
   "source": [
    "A collision for function $F : X → Y$ consists of two distinct elements $x_0, x_1 ∈ X$ such that $F(x_0) = F(x_1)$."
   ]
  },
  {
   "cell_type": "code",
   "execution_count": 3,
   "id": "49bb6814",
   "metadata": {
    "ExecuteTime": {
     "end_time": "2022-05-09T06:50:38.728723Z",
     "start_time": "2022-05-09T06:50:38.716571Z"
    }
   },
   "outputs": [],
   "source": [
    "def gen_hash(in_bits = 4,hash_bits = 4):\n",
    "    \"\"\" Generates a hash function\n",
    "    \n",
    "    Args:\n",
    "        in_bits (int): Maximum number of bits in input\n",
    "        hash_bits (int): Maximum number of bits in hash\n",
    "    Returns:\n",
    "        hash_map (dict): Hash function\n",
    "    \"\"\"\n",
    "    hashes = []\n",
    "    \n",
    "    in_range = 2**in_bits \n",
    "    out_range = 2**hash_bits\n",
    "    \n",
    "    # Hash function with modulo\n",
    "    for i in range(in_range):\n",
    "        hashes.append(i%out_range)\n",
    "    \n",
    "    # Shuffle the hash outputs\n",
    "    hashes = np.random.permutation(hashes)\n",
    "    \n",
    "    # Create the hash map dictionary\n",
    "    hash_map = { i: hashes[i] for i in range(in_range)}\n",
    "    return hash_map"
   ]
  },
  {
   "cell_type": "code",
   "execution_count": 4,
   "id": "44283692",
   "metadata": {
    "ExecuteTime": {
     "end_time": "2022-05-09T06:50:39.690906Z",
     "start_time": "2022-05-09T06:50:39.659393Z"
    }
   },
   "outputs": [
    {
     "data": {
      "text/plain": [
       "{0: 4,\n",
       " 1: 4,\n",
       " 2: 16,\n",
       " 3: 14,\n",
       " 4: 2,\n",
       " 5: 11,\n",
       " 6: 30,\n",
       " 7: 23,\n",
       " 8: 11,\n",
       " 9: 10,\n",
       " 10: 12,\n",
       " 11: 8,\n",
       " 12: 26,\n",
       " 13: 20,\n",
       " 14: 20,\n",
       " 15: 25,\n",
       " 16: 3,\n",
       " 17: 31,\n",
       " 18: 0,\n",
       " 19: 1,\n",
       " 20: 27,\n",
       " 21: 18,\n",
       " 22: 28,\n",
       " 23: 0,\n",
       " 24: 21,\n",
       " 25: 25,\n",
       " 26: 6,\n",
       " 27: 2,\n",
       " 28: 21,\n",
       " 29: 17,\n",
       " 30: 23,\n",
       " 31: 10,\n",
       " 32: 18,\n",
       " 33: 31,\n",
       " 34: 28,\n",
       " 35: 5,\n",
       " 36: 24,\n",
       " 37: 3,\n",
       " 38: 8,\n",
       " 39: 29,\n",
       " 40: 6,\n",
       " 41: 14,\n",
       " 42: 1,\n",
       " 43: 27,\n",
       " 44: 13,\n",
       " 45: 30,\n",
       " 46: 26,\n",
       " 47: 15,\n",
       " 48: 22,\n",
       " 49: 17,\n",
       " 50: 15,\n",
       " 51: 13,\n",
       " 52: 19,\n",
       " 53: 16,\n",
       " 54: 19,\n",
       " 55: 5,\n",
       " 56: 9,\n",
       " 57: 7,\n",
       " 58: 9,\n",
       " 59: 7,\n",
       " 60: 24,\n",
       " 61: 22,\n",
       " 62: 12,\n",
       " 63: 29}"
      ]
     },
     "execution_count": 4,
     "metadata": {},
     "output_type": "execute_result"
    }
   ],
   "source": [
    "hash_fn = gen_hash(n, hash_bits)\n",
    "hash_fn"
   ]
  },
  {
   "cell_type": "markdown",
   "id": "09b1ff41",
   "metadata": {},
   "source": [
    "Pick an arbitrary subset $K \\subset X$ of cardinality $k = \\sqrt[3]{N}$."
   ]
  },
  {
   "cell_type": "code",
   "execution_count": 5,
   "id": "00e16146",
   "metadata": {
    "ExecuteTime": {
     "end_time": "2022-05-09T06:50:42.103497Z",
     "start_time": "2022-05-09T06:50:42.038126Z"
    }
   },
   "outputs": [
    {
     "data": {
      "text/plain": [
       "array([15, 33,  5, 20])"
      ]
     },
     "execution_count": 5,
     "metadata": {},
     "output_type": "execute_result"
    }
   ],
   "source": [
    "k = int(np.ceil(np.cbrt(N)))\n",
    "K = np.random.choice(X, k, replace=False)\n",
    "K"
   ]
  },
  {
   "cell_type": "markdown",
   "id": "82cfd6d7",
   "metadata": {},
   "source": [
    "Construct a table $L$ of size $k$ where each item in $L$ holds a distinct pair $(x, F(x))$ with $x ∈ K$. Sort $L$ according to the second entry in each item of $L$."
   ]
  },
  {
   "cell_type": "code",
   "execution_count": 6,
   "id": "8c0f3878",
   "metadata": {
    "ExecuteTime": {
     "end_time": "2022-05-09T06:50:43.319029Z",
     "start_time": "2022-05-09T06:50:43.292008Z"
    }
   },
   "outputs": [
    {
     "data": {
      "text/plain": [
       "[(5, 11), (15, 25), (20, 27), (33, 31)]"
      ]
     },
     "execution_count": 6,
     "metadata": {},
     "output_type": "execute_result"
    }
   ],
   "source": [
    "L = [ (i, hash_fn[i]) for i in K]\n",
    "L.sort(key = lambda x: x[1])\n",
    "L"
   ]
  },
  {
   "cell_type": "markdown",
   "id": "7ca1a5fb",
   "metadata": {},
   "source": [
    "Check if $L$ contains a collision, that is, check if there exist distinct elements $(x_0, F(x_0)),(x_1, F(x_1)) ∈ L$ for which $F(x_0) = F(x_1)$."
   ]
  },
  {
   "cell_type": "code",
   "execution_count": 7,
   "id": "79a87cbb",
   "metadata": {
    "ExecuteTime": {
     "end_time": "2022-05-09T06:50:44.545191Z",
     "start_time": "2022-05-09T06:50:44.526964Z"
    }
   },
   "outputs": [
    {
     "name": "stdout",
     "output_type": "stream",
     "text": [
      "No Collision Found\n"
     ]
    }
   ],
   "source": [
    "flag = False\n",
    "for i in range(1,k):\n",
    "    if L[i-1][1] == L[i][1]: # Hashes are equal\n",
    "        print(\"Collision Found\")\n",
    "        print(L[i-1], L[i])\n",
    "        flag = True\n",
    "        break\n",
    "if flag == False:\n",
    "    print(\"No Collision Found\")"
   ]
  },
  {
   "cell_type": "markdown",
   "id": "7bfeafac",
   "metadata": {},
   "source": [
    "Compute $x_1 = Grover(H, 1)$ where $H : X → \\{0, 1\\}$ denotes the function defined by $H(x) = 1$ if and only if there exists $x_0 ∈ K$ so that $(x_0, F(x)) ∈ L$ but $x \\not = x_0$. (Note that $x_0$ is unique if it exists since we already checked that there are no collisions in $L$)."
   ]
  },
  {
   "cell_type": "code",
   "execution_count": 10,
   "id": "54ab51cd",
   "metadata": {
    "ExecuteTime": {
     "end_time": "2022-05-09T06:50:46.439238Z",
     "start_time": "2022-05-09T06:50:46.409283Z"
    }
   },
   "outputs": [],
   "source": [
    "\n",
    "def search(x, hash_x):\n",
    "    \"\"\"\n",
    "    Check whether there exists x_0 ∈ K so that (x_0, F(x)) ∈ L but x not = x_0.\n",
    "    Since L is sorted by hashes we use binary search on L.  \n",
    "\n",
    "    Args:\n",
    "        x (int): Input x\n",
    "        hash_x (int): Hash of x\n",
    "    Returns:\n",
    "        index (int): Returns the index of x_0 if found, else -1\n",
    "    \n",
    "    \"\"\"\n",
    "    low = 0\n",
    "    high = k-1\n",
    "    \n",
    "    while low <= high:\n",
    "        mid = (low + high)//2\n",
    "        \n",
    "        # (x_0, F(x)) ∈ L but x not = x_0\n",
    "        if (L[mid][1] == hash_x) and (x != L[mid][0]):\n",
    "            return L[mid][0]\n",
    "        elif (L[mid][1] < hash_x):\n",
    "            low = mid + 1\n",
    "        else:\n",
    "            high = mid - 1\n",
    "    return -1\n",
    "\n",
    "def H_mat():\n",
    "    \"\"\" \n",
    "    Creates a unitary matrix for H: X -> {0, 1}  \n",
    "    \"\"\"\n",
    "    \n",
    "    size = 2**(n+1) # Since |X| = n, we need n+1 qubits\n",
    "    U = np.zeros((size, size)) # Initialize the matrix\n",
    "    \n",
    "    for i in range(size):\n",
    "        \n",
    "        x = i&(2**n-1) # Get x from the first n bits\n",
    "        hash_x = hash_fn[x] # Compute the hash of x\n",
    "        \n",
    "        x0 = search(x, hash_x) \n",
    "        \n",
    "        if x0 == -1:\n",
    "            U[i][i] = 1\n",
    "        else:\n",
    "            U[i^(2**n)][i] = 1\n",
    "    \n",
    "#     print(U)\n",
    "    qc = QuantumCircuit(n+1)\n",
    "    qc.unitary(U,range(n+1))\n",
    "    return qc.to_gate()\n"
   ]
  },
  {
   "cell_type": "markdown",
   "id": "e42e8683",
   "metadata": {},
   "source": [
    "Inverse about the mean gate required for grover search"
   ]
  },
  {
   "cell_type": "code",
   "execution_count": 11,
   "id": "da5b1f94",
   "metadata": {
    "ExecuteTime": {
     "end_time": "2022-05-09T06:50:47.943248Z",
     "start_time": "2022-05-09T06:50:47.925564Z"
    }
   },
   "outputs": [],
   "source": [
    "def inv_mean(n):\n",
    "    \"\"\"\n",
    "    Creates a unitary matrix for inv_mean: X -> {0, 1}\n",
    "    Args:\n",
    "        n (int): Maximum number of bits in input\n",
    "    Returns:\n",
    "        inv_mean (QuantumCircuit): inv_mean unitary matrix\n",
    "    \"\"\"\n",
    "    size = 2**(n)\n",
    "    A = np.full((size,size), 1/size)\n",
    "    I = np.identity(size)\n",
    "    inv_mat = -I + 2*A\n",
    "    qc = QuantumCircuit(n)\n",
    "    qc.unitary(inv_mat,range(n))\n",
    "    return qc.to_gate()"
   ]
  },
  {
   "cell_type": "markdown",
   "id": "304b96e2",
   "metadata": {},
   "source": [
    "Compute $x_1 = Grover(H, 1)$ i.e. find $x \\in X$ such that $H(x) = 1$"
   ]
  },
  {
   "cell_type": "code",
   "execution_count": 12,
   "id": "6994db0a",
   "metadata": {
    "ExecuteTime": {
     "end_time": "2022-05-09T06:50:53.408121Z",
     "start_time": "2022-05-09T06:50:50.089967Z"
    }
   },
   "outputs": [
    {
     "data": {
      "image/png": "[encoded data removed]",
      "text/plain": [
       "<Figure size 1591.6x1047.48 with 1 Axes>"
      ]
     },
     "execution_count": 12,
     "metadata": {},
     "output_type": "execute_result"
    }
   ],
   "source": [
    "qc = QuantumCircuit(n+1,n)\n",
    "\n",
    "qc.x(n)\n",
    "for i in range(n):\n",
    "    qc.h(i)\n",
    "    \n",
    "qc.barrier()\n",
    "\n",
    "Uf = H_mat()\n",
    "inv_gate = inv_mean(n)\n",
    "\n",
    "num_iterations = int((np.pi/4) * np.ceil(np.sqrt((N)/k)))\n",
    "\n",
    "for i in range(num_iterations):\n",
    "    # Phase Inversion\n",
    "    qc.h(n)\n",
    "    \n",
    "    qc.append(Uf, range(n+1))\n",
    "    qc.barrier()\n",
    "\n",
    "    # Inversion about mean\n",
    "    qc.append(inv_gate, range(n))\n",
    "    qc.barrier()\n",
    "\n",
    "\n",
    "for i in range(n):\n",
    "    qc.measure(i,i)\n",
    "\n",
    "qc.draw('mpl')"
   ]
  },
  {
   "cell_type": "code",
   "execution_count": 13,
   "id": "c191771c",
   "metadata": {
    "ExecuteTime": {
     "end_time": "2022-05-09T06:51:14.340350Z",
     "start_time": "2022-05-09T06:51:11.894652Z"
    }
   },
   "outputs": [
    {
     "data": {
      "image/png": "[encoded data removed]",
      "text/plain": [
       "<Figure size 504x360 with 1 Axes>"
      ]
     },
     "execution_count": 13,
     "metadata": {},
     "output_type": "execute_result"
    }
   ],
   "source": [
    "shots = 1000\n",
    "simulator = Aer.get_backend('qasm_simulator')\n",
    "res = execute(qc,backend=simulator, shots=shots).result()\n",
    "counts = res.get_counts(qc)\n",
    "plot_histogram(counts)"
   ]
  },
  {
   "cell_type": "markdown",
   "id": "b124281d",
   "metadata": {},
   "source": [
    "Find $(x_0, F(x_1)) ∈ L$.  Output the collision $\\{x0, x1\\}$"
   ]
  },
  {
   "cell_type": "code",
   "execution_count": 14,
   "id": "12338c79",
   "metadata": {
    "ExecuteTime": {
     "end_time": "2022-05-09T06:51:16.329203Z",
     "start_time": "2022-05-09T06:51:16.306641Z"
    }
   },
   "outputs": [],
   "source": [
    "x = [int(i,2) for i in res.get_counts(qc).keys()]\n",
    "collisions = []\n",
    "for i in x:\n",
    "    hash_i = hash_fn[i]\n",
    "    x0 = search(i,hash_i)\n",
    "    if x0 != -1:\n",
    "        collisions.append((x0,i, hash_i))"
   ]
  },
  {
   "cell_type": "code",
   "execution_count": 15,
   "id": "8ee3c869",
   "metadata": {
    "ExecuteTime": {
     "end_time": "2022-05-09T06:51:18.232643Z",
     "start_time": "2022-05-09T06:51:18.217515Z"
    }
   },
   "outputs": [
    {
     "data": {
      "text/plain": [
       "[(5, 8, 11), (15, 25, 25), (20, 43, 27), (33, 17, 31)]"
      ]
     },
     "execution_count": 15,
     "metadata": {},
     "output_type": "execute_result"
    }
   ],
   "source": [
    "collisions"
   ]
  }
 ],
 "metadata": {
  "interpreter": {
   "hash": "31f2aee4e71d21fbe5cf8b01ff0e069b9275f58929596ceb00d14d90e3e16cd6"
  },
  "kernelspec": {
   "display_name": "Python 3 (ipykernel)",
   "language": "python",
   "name": "python3"
  },
  "language_info": {
   "codemirror_mode": {
    "name": "ipython",
    "version": 3
   },
   "file_extension": ".py",
   "mimetype": "text/x-python",
   "name": "python",
   "nbconvert_exporter": "python",
   "pygments_lexer": "ipython3",
   "version": "3.10.4"
  },
  "latex_envs": {
   "LaTeX_envs_menu_present": true,
   "autoclose": false,
   "autocomplete": true,
   "bibliofile": "biblio.bib",
   "cite_by": "apalike",
   "current_citInitial": 1,
   "eqLabelWithNumbers": true,
   "eqNumInitial": 1,
   "hotkeys": {
    "equation": "Ctrl-E",
    "itemize": "Ctrl-I"
   },
   "labels_anchors": false,
   "latex_user_defs": false,
   "report_style_numbering": false,
   "user_envs_cfg": false
  },
  "toc": {
   "base_numbering": 1,
   "nav_menu": {},
   "number_sections": true,
   "sideBar": true,
   "skip_h1_title": false,
   "title_cell": "Table of Contents",
   "title_sidebar": "Contents",
   "toc_cell": false,
   "toc_position": {},
   "toc_section_display": true,
   "toc_window_display": false
  }
 },
 "nbformat": 4,
 "nbformat_minor": 5
}
