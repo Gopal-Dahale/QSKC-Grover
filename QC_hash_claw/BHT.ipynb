{
 "cells": [
  {
   "cell_type": "code",
   "execution_count": 14,
   "id": "4be9c3b1",
   "metadata": {
    "ExecuteTime": {
     "end_time": "2022-04-01T05:13:39.174812Z",
     "start_time": "2022-04-01T05:13:25.803463Z"
    }
   },
   "outputs": [],
   "source": [
    "#initialization\n",
    "import matplotlib.pyplot as plt\n",
    "import numpy as np\n",
    "\n",
    "# importing Qiskit\n",
    "from qiskit import *\n",
    "from qiskit import IBMQ, Aer, assemble, transpile\n",
    "from qiskit import QuantumCircuit, ClassicalRegister, QuantumRegister\n",
    "from qiskit.providers.ibmq import least_busy\n",
    "\n",
    "# import basic plot tools\n",
    "from qiskit.visualization import plot_histogram, array_to_latex\n",
    "from qiskit.quantum_info import Statevector\n",
    "import plotly.express as px\n",
    "import plotly.io as pio\n",
    "pio.renderers.default = \"notebook_connected\""
   ]
  },
  {
   "cell_type": "code",
   "execution_count": 3,
   "id": "59cc2cb1",
   "metadata": {
    "ExecuteTime": {
     "end_time": "2022-04-01T05:31:04.039367Z",
     "start_time": "2022-04-01T05:31:04.031646Z"
    }
   },
   "outputs": [],
   "source": [
    "n = 6  # Maximum length of a input\n",
    "N = 2**n # Total number of inputs (Domain)\n",
    "X = range(N) # Domain of hash function\n",
    "hash_bits = 5 # Maximum length of hash"
   ]
  },
  {
   "cell_type": "markdown",
   "id": "6544c73b",
   "metadata": {},
   "source": [
    "A collision for function $F : X → Y$ consists of two distinct elements $x_0, x_1 ∈ X$ such that $F(x_0) = F(x_1)$."
   ]
  },
  {
   "cell_type": "code",
   "execution_count": 4,
   "id": "49bb6814",
   "metadata": {
    "ExecuteTime": {
     "end_time": "2022-04-01T05:33:13.822551Z",
     "start_time": "2022-04-01T05:33:13.812475Z"
    }
   },
   "outputs": [],
   "source": [
    "def gen_hash(in_bits = 4,hash_bits = 4):\n",
    "    \"\"\" Generates a hash function\n",
    "    \n",
    "    Args:\n",
    "        in_bits (int): Maximum number of bits in input\n",
    "        hash_bits (int): Maximum number of bits in hash\n",
    "    Returns:\n",
    "        hash_map (dict): Hash function\n",
    "    \"\"\"\n",
    "    hashes = []\n",
    "    \n",
    "    in_range = 2**in_bits \n",
    "    out_range = 2**hash_bits\n",
    "    \n",
    "    # Hash function with modulo\n",
    "    for i in range(in_range):\n",
    "        hashes.append(i%out_range)\n",
    "    \n",
    "    # Shuffle the hash outputs\n",
    "    hashes = np.random.permutation(hashes)\n",
    "    \n",
    "    # Create the hash map dictionary\n",
    "    hash_map = { i: hashes[i] for i in range(in_range)}\n",
    "    return hash_map"
   ]
  },
  {
   "cell_type": "code",
   "execution_count": 5,
   "id": "44283692",
   "metadata": {
    "ExecuteTime": {
     "end_time": "2022-04-01T05:33:14.539057Z",
     "start_time": "2022-04-01T05:33:14.531554Z"
    }
   },
   "outputs": [
    {
     "data": {
      "text/plain": [
       "{0: 30,\n",
       " 1: 29,\n",
       " 2: 30,\n",
       " 3: 16,\n",
       " 4: 21,\n",
       " 5: 15,\n",
       " 6: 2,\n",
       " 7: 19,\n",
       " 8: 18,\n",
       " 9: 18,\n",
       " 10: 13,\n",
       " 11: 8,\n",
       " 12: 3,\n",
       " 13: 4,\n",
       " 14: 8,\n",
       " 15: 31,\n",
       " 16: 1,\n",
       " 17: 7,\n",
       " 18: 12,\n",
       " 19: 5,\n",
       " 20: 26,\n",
       " 21: 7,\n",
       " 22: 12,\n",
       " 23: 28,\n",
       " 24: 17,\n",
       " 25: 9,\n",
       " 26: 9,\n",
       " 27: 6,\n",
       " 28: 14,\n",
       " 29: 2,\n",
       " 30: 20,\n",
       " 31: 4,\n",
       " 32: 19,\n",
       " 33: 1,\n",
       " 34: 11,\n",
       " 35: 3,\n",
       " 36: 23,\n",
       " 37: 29,\n",
       " 38: 11,\n",
       " 39: 22,\n",
       " 40: 23,\n",
       " 41: 0,\n",
       " 42: 6,\n",
       " 43: 22,\n",
       " 44: 0,\n",
       " 45: 31,\n",
       " 46: 26,\n",
       " 47: 14,\n",
       " 48: 24,\n",
       " 49: 25,\n",
       " 50: 25,\n",
       " 51: 10,\n",
       " 52: 27,\n",
       " 53: 13,\n",
       " 54: 20,\n",
       " 55: 16,\n",
       " 56: 21,\n",
       " 57: 5,\n",
       " 58: 27,\n",
       " 59: 17,\n",
       " 60: 24,\n",
       " 61: 28,\n",
       " 62: 15,\n",
       " 63: 10}"
      ]
     },
     "execution_count": 5,
     "metadata": {},
     "output_type": "execute_result"
    }
   ],
   "source": [
    "hash_fn = gen_hash(n, hash_bits)\n",
    "hash_fn"
   ]
  },
  {
   "cell_type": "markdown",
   "id": "09b1ff41",
   "metadata": {},
   "source": [
    "Pick an arbitrary subset $K \\subset X$ of cardinality $k = \\sqrt[3]{N}$."
   ]
  },
  {
   "cell_type": "code",
   "execution_count": 6,
   "id": "00e16146",
   "metadata": {
    "ExecuteTime": {
     "end_time": "2022-04-01T05:33:17.924995Z",
     "start_time": "2022-04-01T05:33:17.919146Z"
    }
   },
   "outputs": [
    {
     "data": {
      "text/plain": [
       "array([55, 59, 50, 22])"
      ]
     },
     "execution_count": 6,
     "metadata": {},
     "output_type": "execute_result"
    }
   ],
   "source": [
    "k = int(np.ceil(np.cbrt(N)))\n",
    "K = np.random.choice(X, k, replace=False)\n",
    "K"
   ]
  },
  {
   "cell_type": "markdown",
   "id": "82cfd6d7",
   "metadata": {},
   "source": [
    "Construct a table $L$ of size $k$ where each item in $L$ holds a distinct pair $(x, F(x))$ with $x ∈ K$. Sort $L$ according to the second entry in each item of $L$."
   ]
  },
  {
   "cell_type": "code",
   "execution_count": 7,
   "id": "8c0f3878",
   "metadata": {
    "ExecuteTime": {
     "end_time": "2022-04-01T05:33:39.871487Z",
     "start_time": "2022-04-01T05:33:39.862703Z"
    }
   },
   "outputs": [
    {
     "data": {
      "text/plain": [
       "[(22, 12), (55, 16), (59, 17), (50, 25)]"
      ]
     },
     "execution_count": 7,
     "metadata": {},
     "output_type": "execute_result"
    }
   ],
   "source": [
    "L = [ (i, hash_fn[i]) for i in K]\n",
    "L.sort(key = lambda x: x[1])\n",
    "L"
   ]
  },
  {
   "cell_type": "markdown",
   "id": "7ca1a5fb",
   "metadata": {},
   "source": [
    "Check if $L$ contains a collision, that is, check if there exist distinct elements $(x_0, F(x_0)),(x_1, F(x_1)) ∈ L$ for which $F(x_0) = F(x_1)$."
   ]
  },
  {
   "cell_type": "code",
   "execution_count": 8,
   "id": "79a87cbb",
   "metadata": {
    "ExecuteTime": {
     "end_time": "2022-04-01T05:35:40.461749Z",
     "start_time": "2022-04-01T05:35:40.453254Z"
    }
   },
   "outputs": [
    {
     "name": "stdout",
     "output_type": "stream",
     "text": [
      "No Collision Found\n"
     ]
    }
   ],
   "source": [
    "flag = False\n",
    "for i in range(1,k):\n",
    "    if L[i-1][1] == L[i][1]: # Hashes are equal\n",
    "        print(\"Collision Found\")\n",
    "        print(L[i-1], L[i])\n",
    "        flag = True\n",
    "        break\n",
    "if flag == False:\n",
    "    print(\"No Collision Found\")"
   ]
  },
  {
   "cell_type": "markdown",
   "id": "7bfeafac",
   "metadata": {},
   "source": [
    "Compute $x_1 = Grover(H, 1)$ where $H : X → \\{0, 1\\}$ denotes the function defined by $H(x) = 1$ if and only if there exists $x_0 ∈ K$ so that $(x_0, F(x)) ∈ L$ but $x \\not = x_0$. (Note that $x_0$ is unique if it exists since we already checked that there are no collisions in $L$)."
   ]
  },
  {
   "cell_type": "code",
   "execution_count": 9,
   "id": "54ab51cd",
   "metadata": {
    "ExecuteTime": {
     "end_time": "2022-04-01T06:07:56.798347Z",
     "start_time": "2022-04-01T06:07:56.782003Z"
    }
   },
   "outputs": [],
   "source": [
    "def search(x, hash_x):\n",
    "    \"\"\" Check whether there exists x_0 ∈ K so that (x_0, F(x)) ∈ L but x not = x_0.\n",
    "    \n",
    "    Since L is sorted by hashes we use binary search on L.    \n",
    "    \"\"\"\n",
    "    low = 0\n",
    "    high = k-1\n",
    "    \n",
    "    while low <= high:\n",
    "        mid = (low + high)//2\n",
    "        \n",
    "        # (x_0, F(x)) ∈ L but x not = x_0\n",
    "        if (L[mid][1] == hash_x) and (x != L[mid][0]):\n",
    "            return L[mid][0]\n",
    "        elif (L[mid][1] < hash_x):\n",
    "            low = mid + 1\n",
    "        else:\n",
    "            high = mid - 1\n",
    "    return -1\n",
    "\n",
    "def H_mat():\n",
    "    \"\"\" Creates a unitary matrix for H: X -> {0, 1}  \n",
    "    \n",
    "    \"\"\"\n",
    "    \n",
    "    size = 2**(n+1) # Since |X| = n, we need n+1 qubits\n",
    "    U = np.zeros((size, size)) # Initialize the matrix\n",
    "    \n",
    "    for i in range(size):\n",
    "        \n",
    "        x = i&(2**n-1) # Get x from the first n bits\n",
    "        hash_x = hash_fn[x] # Compute the hash of x\n",
    "        \n",
    "        x0 = search(x, hash_x) \n",
    "        \n",
    "        if x0 == -1:\n",
    "            U[i][i] = 1\n",
    "        else:\n",
    "            U[i^(2**n)][i] = 1\n",
    "    \n",
    "#     print(U)\n",
    "    qc = QuantumCircuit(n+1)\n",
    "    qc.unitary(U,range(n+1))\n",
    "    return qc.to_gate()\n"
   ]
  },
  {
   "cell_type": "markdown",
   "id": "e42e8683",
   "metadata": {},
   "source": [
    "Inverse about the mean gate required for grover search"
   ]
  },
  {
   "cell_type": "code",
   "execution_count": 10,
   "id": "da5b1f94",
   "metadata": {
    "ExecuteTime": {
     "end_time": "2022-04-01T06:08:28.926166Z",
     "start_time": "2022-04-01T06:08:28.910716Z"
    }
   },
   "outputs": [],
   "source": [
    "def inv_mean(n):\n",
    "    size = 2**(n)\n",
    "    A = np.full((size,size), 1/size)\n",
    "    I = np.identity(size)\n",
    "    inv_mat = -I + 2*A\n",
    "    qc = QuantumCircuit(n)\n",
    "    qc.unitary(inv_mat,range(n))\n",
    "    return qc.to_gate()"
   ]
  },
  {
   "cell_type": "markdown",
   "id": "304b96e2",
   "metadata": {},
   "source": [
    "Compute $x_1 = Grover(H, 1)$ i.e. find $x \\in X$ such that $H(x) = 1$"
   ]
  },
  {
   "cell_type": "code",
   "execution_count": 11,
   "id": "6994db0a",
   "metadata": {
    "ExecuteTime": {
     "end_time": "2022-04-01T06:11:30.771919Z",
     "start_time": "2022-04-01T06:11:28.971573Z"
    }
   },
   "outputs": [
    {
     "data": {
      "image/png": "[encoded data removed]",
      "text/plain": [
       "<Figure size 1591.6x1047.48 with 1 Axes>"
      ]
     },
     "execution_count": 11,
     "metadata": {},
     "output_type": "execute_result"
    }
   ],
   "source": [
    "qc = QuantumCircuit(n+1,n)\n",
    "\n",
    "qc.x(n)\n",
    "for i in range(n):\n",
    "    qc.h(i)\n",
    "    \n",
    "qc.barrier()\n",
    "\n",
    "Uf = H_mat()\n",
    "inv_gate = inv_mean(n)\n",
    "\n",
    "num_iterations = int((np.pi/4) * np.ceil(np.sqrt((N)/k)))\n",
    "\n",
    "for i in range(num_iterations):\n",
    "    # Phase Inversion\n",
    "    qc.h(n)\n",
    "    \n",
    "    qc.append(Uf, range(n+1))\n",
    "    qc.barrier()\n",
    "\n",
    "    # Inversion about mean\n",
    "    qc.append(inv_gate, range(n))\n",
    "    qc.barrier()\n",
    "\n",
    "\n",
    "for i in range(n):\n",
    "    qc.measure(i,i)\n",
    "\n",
    "qc.draw('mpl')"
   ]
  },
  {
   "cell_type": "code",
   "execution_count": 15,
   "id": "c191771c",
   "metadata": {
    "ExecuteTime": {
     "end_time": "2022-04-01T06:12:36.529046Z",
     "start_time": "2022-04-01T06:12:26.335617Z"
    }
   },
   "outputs": [
    {
     "data": {
      "text/html": [
       "        <script type=\"text/javascript\">\n",
       "        window.PlotlyConfig = {MathJaxConfig: 'local'};\n",
       "        if (window.MathJax) {MathJax.Hub.Config({SVG: {font: \"STIX-Web\"}});}\n",
       "        if (typeof require !== 'undefined') {\n",
       "        require.undef(\"plotly\");\n",
       "        requirejs.config({\n",
       "            paths: {\n",
       "                'plotly': ['https://cdn.plot.ly/plotly-2.9.0.min']\n",
       "            }\n",
       "        });\n",
       "        require(['plotly'], function(Plotly) {\n",
       "            window._Plotly = Plotly;\n",
       "        });\n",
       "        }\n",
       "        </script>\n",
       "        "
      ]
     },
     "metadata": {},
     "output_type": "display_data"
    },
    {
     "data": {
      "text/html": [
       "<div>                            <div id=\"1a632d42-7a7b-4f99-a6e6-886f26b1d186\" class=\"plotly-graph-div\" style=\"height:525px; width:100%;\"></div>            <script type=\"text/javascript\">                require([\"plotly\"], function(Plotly) {                    window.PLOTLYENV=window.PLOTLYENV || {};                                    if (document.getElementById(\"1a632d42-7a7b-4f99-a6e6-886f26b1d186\")) {                    Plotly.newPlot(                        \"1a632d42-7a7b-4f99-a6e6-886f26b1d186\",                        [{\"alignmentgroup\":\"True\",\"hovertemplate\":\"x=%{x}<br>y=%{y}<extra></extra>\",\"legendgroup\":\"\",\"marker\":{\"color\":\"#636efa\",\"pattern\":{\"shape\":\"\"}},\"name\":\"\",\"offsetgroup\":\"\",\"orientation\":\"v\",\"showlegend\":false,\"textposition\":\"auto\",\"x\":[46,11,56,21,1,10,2,6,47,52,16,12,7,45,40,14,23,35,54,27,43,29,32,58,53,60,55,9,30,61,25,3,17,4,20,24,31,50,22,34,28,49,13,41,39,42,62,26,57,38,48,44,18,15,37,33,8,5,19],\"xaxis\":\"x\",\"y\":[0.001,0.001,0.002,0.002,0.002,0.003,0.001,0.002,0.001,0.001,0.002,0.004,0.001,0.002,0.002,0.002,0.005,0.004,0.003,0.006,0.002,0.003,0.002,0.001,0.003,0.004,0.002,0.005,0.002,0.003,0.003,0.225,0.002,0.004,0.002,0.22,0.003,0.002,0.001,0.004,0.003,0.219,0.003,0.001,0.001,0.001,0.003,0.003,0.001,0.003,0.001,0.005,0.2,0.003,0.004,0.003,0.003,0.001,0.002],\"yaxis\":\"y\",\"type\":\"bar\"}],                        {\"template\":{\"data\":{\"bar\":[{\"error_x\":{\"color\":\"#2a3f5f\"},\"error_y\":{\"color\":\"#2a3f5f\"},\"marker\":{\"line\":{\"color\":\"#E5ECF6\",\"width\":0.5},\"pattern\":{\"fillmode\":\"overlay\",\"size\":10,\"solidity\":0.2}},\"type\":\"bar\"}],\"barpolar\":[{\"marker\":{\"line\":{\"color\":\"#E5ECF6\",\"width\":0.5},\"pattern\":{\"fillmode\":\"overlay\",\"size\":10,\"solidity\":0.2}},\"type\":\"barpolar\"}],\"carpet\":[{\"aaxis\":{\"endlinecolor\":\"#2a3f5f\",\"gridcolor\":\"white\",\"linecolor\":\"white\",\"minorgridcolor\":\"white\",\"startlinecolor\":\"#2a3f5f\"},\"baxis\":{\"endlinecolor\":\"#2a3f5f\",\"gridcolor\":\"white\",\"linecolor\":\"white\",\"minorgridcolor\":\"white\",\"startlinecolor\":\"#2a3f5f\"},\"type\":\"carpet\"}],\"choropleth\":[{\"colorbar\":{\"outlinewidth\":0,\"ticks\":\"\"},\"type\":\"choropleth\"}],\"contour\":[{\"colorbar\":{\"outlinewidth\":0,\"ticks\":\"\"},\"colorscale\":[[0.0,\"#0d0887\"],[0.1111111111111111,\"#46039f\"],[0.2222222222222222,\"#7201a8\"],[0.3333333333333333,\"#9c179e\"],[0.4444444444444444,\"#bd3786\"],[0.5555555555555556,\"#d8576b\"],[0.6666666666666666,\"#ed7953\"],[0.7777777777777778,\"#fb9f3a\"],[0.8888888888888888,\"#fdca26\"],[1.0,\"#f0f921\"]],\"type\":\"contour\"}],\"contourcarpet\":[{\"colorbar\":{\"outlinewidth\":0,\"ticks\":\"\"},\"type\":\"contourcarpet\"}],\"heatmap\":[{\"colorbar\":{\"outlinewidth\":0,\"ticks\":\"\"},\"colorscale\":[[0.0,\"#0d0887\"],[0.1111111111111111,\"#46039f\"],[0.2222222222222222,\"#7201a8\"],[0.3333333333333333,\"#9c179e\"],[0.4444444444444444,\"#bd3786\"],[0.5555555555555556,\"#d8576b\"],[0.6666666666666666,\"#ed7953\"],[0.7777777777777778,\"#fb9f3a\"],[0.8888888888888888,\"#fdca26\"],[1.0,\"#f0f921\"]],\"type\":\"heatmap\"}],\"heatmapgl\":[{\"colorbar\":{\"outlinewidth\":0,\"ticks\":\"\"},\"colorscale\":[[0.0,\"#0d0887\"],[0.1111111111111111,\"#46039f\"],[0.2222222222222222,\"#7201a8\"],[0.3333333333333333,\"#9c179e\"],[0.4444444444444444,\"#bd3786\"],[0.5555555555555556,\"#d8576b\"],[0.6666666666666666,\"#ed7953\"],[0.7777777777777778,\"#fb9f3a\"],[0.8888888888888888,\"#fdca26\"],[1.0,\"#f0f921\"]],\"type\":\"heatmapgl\"}],\"histogram\":[{\"marker\":{\"pattern\":{\"fillmode\":\"overlay\",\"size\":10,\"solidity\":0.2}},\"type\":\"histogram\"}],\"histogram2d\":[{\"colorbar\":{\"outlinewidth\":0,\"ticks\":\"\"},\"colorscale\":[[0.0,\"#0d0887\"],[0.1111111111111111,\"#46039f\"],[0.2222222222222222,\"#7201a8\"],[0.3333333333333333,\"#9c179e\"],[0.4444444444444444,\"#bd3786\"],[0.5555555555555556,\"#d8576b\"],[0.6666666666666666,\"#ed7953\"],[0.7777777777777778,\"#fb9f3a\"],[0.8888888888888888,\"#fdca26\"],[1.0,\"#f0f921\"]],\"type\":\"histogram2d\"}],\"histogram2dcontour\":[{\"colorbar\":{\"outlinewidth\":0,\"ticks\":\"\"},\"colorscale\":[[0.0,\"#0d0887\"],[0.1111111111111111,\"#46039f\"],[0.2222222222222222,\"#7201a8\"],[0.3333333333333333,\"#9c179e\"],[0.4444444444444444,\"#bd3786\"],[0.5555555555555556,\"#d8576b\"],[0.6666666666666666,\"#ed7953\"],[0.7777777777777778,\"#fb9f3a\"],[0.8888888888888888,\"#fdca26\"],[1.0,\"#f0f921\"]],\"type\":\"histogram2dcontour\"}],\"mesh3d\":[{\"colorbar\":{\"outlinewidth\":0,\"ticks\":\"\"},\"type\":\"mesh3d\"}],\"parcoords\":[{\"line\":{\"colorbar\":{\"outlinewidth\":0,\"ticks\":\"\"}},\"type\":\"parcoords\"}],\"pie\":[{\"automargin\":true,\"type\":\"pie\"}],\"scatter\":[{\"marker\":{\"colorbar\":{\"outlinewidth\":0,\"ticks\":\"\"}},\"type\":\"scatter\"}],\"scatter3d\":[{\"line\":{\"colorbar\":{\"outlinewidth\":0,\"ticks\":\"\"}},\"marker\":{\"colorbar\":{\"outlinewidth\":0,\"ticks\":\"\"}},\"type\":\"scatter3d\"}],\"scattercarpet\":[{\"marker\":{\"colorbar\":{\"outlinewidth\":0,\"ticks\":\"\"}},\"type\":\"scattercarpet\"}],\"scattergeo\":[{\"marker\":{\"colorbar\":{\"outlinewidth\":0,\"ticks\":\"\"}},\"type\":\"scattergeo\"}],\"scattergl\":[{\"marker\":{\"colorbar\":{\"outlinewidth\":0,\"ticks\":\"\"}},\"type\":\"scattergl\"}],\"scattermapbox\":[{\"marker\":{\"colorbar\":{\"outlinewidth\":0,\"ticks\":\"\"}},\"type\":\"scattermapbox\"}],\"scatterpolar\":[{\"marker\":{\"colorbar\":{\"outlinewidth\":0,\"ticks\":\"\"}},\"type\":\"scatterpolar\"}],\"scatterpolargl\":[{\"marker\":{\"colorbar\":{\"outlinewidth\":0,\"ticks\":\"\"}},\"type\":\"scatterpolargl\"}],\"scatterternary\":[{\"marker\":{\"colorbar\":{\"outlinewidth\":0,\"ticks\":\"\"}},\"type\":\"scatterternary\"}],\"surface\":[{\"colorbar\":{\"outlinewidth\":0,\"ticks\":\"\"},\"colorscale\":[[0.0,\"#0d0887\"],[0.1111111111111111,\"#46039f\"],[0.2222222222222222,\"#7201a8\"],[0.3333333333333333,\"#9c179e\"],[0.4444444444444444,\"#bd3786\"],[0.5555555555555556,\"#d8576b\"],[0.6666666666666666,\"#ed7953\"],[0.7777777777777778,\"#fb9f3a\"],[0.8888888888888888,\"#fdca26\"],[1.0,\"#f0f921\"]],\"type\":\"surface\"}],\"table\":[{\"cells\":{\"fill\":{\"color\":\"#EBF0F8\"},\"line\":{\"color\":\"white\"}},\"header\":{\"fill\":{\"color\":\"#C8D4E3\"},\"line\":{\"color\":\"white\"}},\"type\":\"table\"}]},\"layout\":{\"annotationdefaults\":{\"arrowcolor\":\"#2a3f5f\",\"arrowhead\":0,\"arrowwidth\":1},\"autotypenumbers\":\"strict\",\"coloraxis\":{\"colorbar\":{\"outlinewidth\":0,\"ticks\":\"\"}},\"colorscale\":{\"diverging\":[[0,\"#8e0152\"],[0.1,\"#c51b7d\"],[0.2,\"#de77ae\"],[0.3,\"#f1b6da\"],[0.4,\"#fde0ef\"],[0.5,\"#f7f7f7\"],[0.6,\"#e6f5d0\"],[0.7,\"#b8e186\"],[0.8,\"#7fbc41\"],[0.9,\"#4d9221\"],[1,\"#276419\"]],\"sequential\":[[0.0,\"#0d0887\"],[0.1111111111111111,\"#46039f\"],[0.2222222222222222,\"#7201a8\"],[0.3333333333333333,\"#9c179e\"],[0.4444444444444444,\"#bd3786\"],[0.5555555555555556,\"#d8576b\"],[0.6666666666666666,\"#ed7953\"],[0.7777777777777778,\"#fb9f3a\"],[0.8888888888888888,\"#fdca26\"],[1.0,\"#f0f921\"]],\"sequentialminus\":[[0.0,\"#0d0887\"],[0.1111111111111111,\"#46039f\"],[0.2222222222222222,\"#7201a8\"],[0.3333333333333333,\"#9c179e\"],[0.4444444444444444,\"#bd3786\"],[0.5555555555555556,\"#d8576b\"],[0.6666666666666666,\"#ed7953\"],[0.7777777777777778,\"#fb9f3a\"],[0.8888888888888888,\"#fdca26\"],[1.0,\"#f0f921\"]]},\"colorway\":[\"#636efa\",\"#EF553B\",\"#00cc96\",\"#ab63fa\",\"#FFA15A\",\"#19d3f3\",\"#FF6692\",\"#B6E880\",\"#FF97FF\",\"#FECB52\"],\"font\":{\"color\":\"#2a3f5f\"},\"geo\":{\"bgcolor\":\"white\",\"lakecolor\":\"white\",\"landcolor\":\"#E5ECF6\",\"showlakes\":true,\"showland\":true,\"subunitcolor\":\"white\"},\"hoverlabel\":{\"align\":\"left\"},\"hovermode\":\"closest\",\"mapbox\":{\"style\":\"light\"},\"paper_bgcolor\":\"white\",\"plot_bgcolor\":\"#E5ECF6\",\"polar\":{\"angularaxis\":{\"gridcolor\":\"white\",\"linecolor\":\"white\",\"ticks\":\"\"},\"bgcolor\":\"#E5ECF6\",\"radialaxis\":{\"gridcolor\":\"white\",\"linecolor\":\"white\",\"ticks\":\"\"}},\"scene\":{\"xaxis\":{\"backgroundcolor\":\"#E5ECF6\",\"gridcolor\":\"white\",\"gridwidth\":2,\"linecolor\":\"white\",\"showbackground\":true,\"ticks\":\"\",\"zerolinecolor\":\"white\"},\"yaxis\":{\"backgroundcolor\":\"#E5ECF6\",\"gridcolor\":\"white\",\"gridwidth\":2,\"linecolor\":\"white\",\"showbackground\":true,\"ticks\":\"\",\"zerolinecolor\":\"white\"},\"zaxis\":{\"backgroundcolor\":\"#E5ECF6\",\"gridcolor\":\"white\",\"gridwidth\":2,\"linecolor\":\"white\",\"showbackground\":true,\"ticks\":\"\",\"zerolinecolor\":\"white\"}},\"shapedefaults\":{\"line\":{\"color\":\"#2a3f5f\"}},\"ternary\":{\"aaxis\":{\"gridcolor\":\"white\",\"linecolor\":\"white\",\"ticks\":\"\"},\"baxis\":{\"gridcolor\":\"white\",\"linecolor\":\"white\",\"ticks\":\"\"},\"bgcolor\":\"#E5ECF6\",\"caxis\":{\"gridcolor\":\"white\",\"linecolor\":\"white\",\"ticks\":\"\"}},\"title\":{\"x\":0.05},\"xaxis\":{\"automargin\":true,\"gridcolor\":\"white\",\"linecolor\":\"white\",\"ticks\":\"\",\"title\":{\"standoff\":15},\"zerolinecolor\":\"white\",\"zerolinewidth\":2},\"yaxis\":{\"automargin\":true,\"gridcolor\":\"white\",\"linecolor\":\"white\",\"ticks\":\"\",\"title\":{\"standoff\":15},\"zerolinecolor\":\"white\",\"zerolinewidth\":2}}},\"xaxis\":{\"anchor\":\"y\",\"domain\":[0.0,1.0],\"title\":{\"text\":\"x\"}},\"yaxis\":{\"anchor\":\"x\",\"domain\":[0.0,1.0],\"title\":{\"text\":\"y\"}},\"legend\":{\"tracegroupgap\":0},\"margin\":{\"t\":60},\"barmode\":\"relative\"},                        {\"responsive\": true}                    ).then(function(){\n",
       "                            \n",
       "var gd = document.getElementById('1a632d42-7a7b-4f99-a6e6-886f26b1d186');\n",
       "var x = new MutationObserver(function (mutations, observer) {{\n",
       "        var display = window.getComputedStyle(gd).display;\n",
       "        if (!display || display === 'none') {{\n",
       "            console.log([gd, 'removed!']);\n",
       "            Plotly.purge(gd);\n",
       "            observer.disconnect();\n",
       "        }}\n",
       "}});\n",
       "\n",
       "// Listen for the removal of the full notebook cells\n",
       "var notebookContainer = gd.closest('#notebook-container');\n",
       "if (notebookContainer) {{\n",
       "    x.observe(notebookContainer, {childList: true});\n",
       "}}\n",
       "\n",
       "// Listen for the clearing of the current output cell\n",
       "var outputEl = gd.closest('.output');\n",
       "if (outputEl) {{\n",
       "    x.observe(outputEl, {childList: true});\n",
       "}}\n",
       "\n",
       "                        })                };                });            </script>        </div>"
      ]
     },
     "metadata": {},
     "output_type": "display_data"
    }
   ],
   "source": [
    "shots = 1000\n",
    "simulator = Aer.get_backend('qasm_simulator')\n",
    "res = execute(qc,backend=simulator, shots=shots).result()\n",
    "counts = res.get_counts(qc)\n",
    "counts = { int(i,2): j/shots for i, j in counts.items()}\n",
    "fig = px.bar(x=counts.keys(), y=counts.values())\n",
    "fig.show()"
   ]
  },
  {
   "cell_type": "markdown",
   "id": "b124281d",
   "metadata": {},
   "source": [
    "Find $(x_0, F(x_1)) ∈ L$.  Output the collision $\\{x0, x1\\}$"
   ]
  },
  {
   "cell_type": "code",
   "execution_count": 16,
   "id": "12338c79",
   "metadata": {
    "ExecuteTime": {
     "end_time": "2022-04-01T06:12:45.300655Z",
     "start_time": "2022-04-01T06:12:45.286068Z"
    }
   },
   "outputs": [],
   "source": [
    "x = [int(i,2) for i in res.get_counts(qc).keys()]\n",
    "collisions = []\n",
    "for i in x:\n",
    "    hash_i = hash_fn[i]\n",
    "    x0 = search(i,hash_i)\n",
    "    if x0 != -1:\n",
    "        collisions.append((x0,i, hash_i))"
   ]
  },
  {
   "cell_type": "code",
   "execution_count": 17,
   "id": "8ee3c869",
   "metadata": {
    "ExecuteTime": {
     "end_time": "2022-04-01T06:12:57.996567Z",
     "start_time": "2022-04-01T06:12:57.986712Z"
    }
   },
   "outputs": [
    {
     "data": {
      "text/plain": [
       "[(55, 3, 16), (59, 24, 17), (50, 49, 25), (22, 18, 12)]"
      ]
     },
     "execution_count": 17,
     "metadata": {},
     "output_type": "execute_result"
    }
   ],
   "source": [
    "collisions"
   ]
  },
  {
   "cell_type": "code",
   "execution_count": null,
   "id": "ea53e0e0",
   "metadata": {},
   "outputs": [],
   "source": []
  }
 ],
 "metadata": {
  "kernelspec": {
   "display_name": "Python 3 (ipykernel)",
   "language": "python",
   "name": "python3"
  },
  "language_info": {
   "codemirror_mode": {
    "name": "ipython",
    "version": 3
   },
   "file_extension": ".py",
   "mimetype": "text/x-python",
   "name": "python",
   "nbconvert_exporter": "python",
   "pygments_lexer": "ipython3",
   "version": "3.9.7"
  },
  "latex_envs": {
   "LaTeX_envs_menu_present": true,
   "autoclose": false,
   "autocomplete": true,
   "bibliofile": "biblio.bib",
   "cite_by": "apalike",
   "current_citInitial": 1,
   "eqLabelWithNumbers": true,
   "eqNumInitial": 1,
   "hotkeys": {
    "equation": "Ctrl-E",
    "itemize": "Ctrl-I"
   },
   "labels_anchors": false,
   "latex_user_defs": false,
   "report_style_numbering": false,
   "user_envs_cfg": false
  },
  "toc": {
   "base_numbering": 1,
   "nav_menu": {},
   "number_sections": true,
   "sideBar": true,
   "skip_h1_title": false,
   "title_cell": "Table of Contents",
   "title_sidebar": "Contents",
   "toc_cell": false,
   "toc_position": {},
   "toc_section_display": true,
   "toc_window_display": false
  }
 },
 "nbformat": 4,
 "nbformat_minor": 5
}
