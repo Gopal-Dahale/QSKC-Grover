{
 "cells": [
  {
   "cell_type": "code",
   "execution_count": 1,
   "metadata": {
    "ExecuteTime": {
     "end_time": "2022-05-09T06:59:31.316361Z",
     "start_time": "2022-05-09T06:59:28.223171Z"
    }
   },
   "outputs": [],
   "source": [
    "#initialization\n",
    "import matplotlib.pyplot as plt\n",
    "import numpy as np\n",
    "\n",
    "# importing Qiskit\n",
    "from qiskit import *\n",
    "from qiskit import Aer, assemble, transpile\n",
    "from qiskit import QuantumCircuit, ClassicalRegister, QuantumRegister\n",
    "\n",
    "# import basic plot tools\n",
    "from qiskit.visualization import plot_histogram"
   ]
  },
  {
   "cell_type": "code",
   "execution_count": 37,
   "metadata": {
    "ExecuteTime": {
     "end_time": "2022-05-09T07:01:44.113862Z",
     "start_time": "2022-05-09T07:01:44.090652Z"
    }
   },
   "outputs": [],
   "source": [
    "n = 4  # Maximum length of a input\n",
    "N = 2**n # Total number of inputs (Domain)\n",
    "X = Y = Z = range(N) # Domain "
   ]
  },
  {
   "cell_type": "markdown",
   "metadata": {},
   "source": [
    "Consider now two functions $F : X \\rightarrow Z$ and $G : Y \\rightarrow Z$ that have the same codomain. By denition, a claw is a pair $x \\in X$ , $y \\int Y$ such that $F(x) = G(y)$."
   ]
  },
  {
   "cell_type": "code",
   "execution_count": 48,
   "metadata": {
    "ExecuteTime": {
     "end_time": "2022-05-09T07:03:14.339999Z",
     "start_time": "2022-05-09T07:03:14.327996Z"
    }
   },
   "outputs": [],
   "source": [
    "F = { i : np.random.randint(0,N)  for i in X}\n",
    "G = { i : np.random.randint(0,N) for i in Y}"
   ]
  },
  {
   "cell_type": "code",
   "execution_count": 49,
   "metadata": {
    "ExecuteTime": {
     "end_time": "2022-05-09T07:03:15.676636Z",
     "start_time": "2022-05-09T07:03:15.659783Z"
    }
   },
   "outputs": [
    {
     "data": {
      "text/plain": [
       "{0: 1,\n",
       " 1: 15,\n",
       " 2: 9,\n",
       " 3: 5,\n",
       " 4: 0,\n",
       " 5: 15,\n",
       " 6: 1,\n",
       " 7: 8,\n",
       " 8: 15,\n",
       " 9: 11,\n",
       " 10: 11,\n",
       " 11: 2,\n",
       " 12: 7,\n",
       " 13: 9,\n",
       " 14: 0,\n",
       " 15: 5}"
      ]
     },
     "execution_count": 49,
     "metadata": {},
     "output_type": "execute_result"
    }
   ],
   "source": [
    "F"
   ]
  },
  {
   "cell_type": "code",
   "execution_count": 50,
   "metadata": {
    "ExecuteTime": {
     "end_time": "2022-05-09T07:03:16.052745Z",
     "start_time": "2022-05-09T07:03:16.031048Z"
    }
   },
   "outputs": [
    {
     "data": {
      "text/plain": [
       "{0: 9,\n",
       " 1: 7,\n",
       " 2: 15,\n",
       " 3: 4,\n",
       " 4: 10,\n",
       " 5: 10,\n",
       " 6: 11,\n",
       " 7: 1,\n",
       " 8: 3,\n",
       " 9: 9,\n",
       " 10: 3,\n",
       " 11: 7,\n",
       " 12: 13,\n",
       " 13: 8,\n",
       " 14: 0,\n",
       " 15: 5}"
      ]
     },
     "execution_count": 50,
     "metadata": {},
     "output_type": "execute_result"
    }
   ],
   "source": [
    "G"
   ]
  },
  {
   "cell_type": "markdown",
   "metadata": {},
   "source": [
    "Pick an arbitrary subset $K \\subseteq X$ of cardinality $k$."
   ]
  },
  {
   "cell_type": "code",
   "execution_count": 51,
   "metadata": {
    "ExecuteTime": {
     "end_time": "2022-05-09T07:03:54.956270Z",
     "start_time": "2022-05-09T07:03:54.939207Z"
    }
   },
   "outputs": [
    {
     "data": {
      "text/plain": [
       "array([7, 3, 4])"
      ]
     },
     "execution_count": 51,
     "metadata": {},
     "output_type": "execute_result"
    }
   ],
   "source": [
    "k = int(np.ceil(np.cbrt(N)))\n",
    "K = np.random.choice(X, k, replace=False)\n",
    "K"
   ]
  },
  {
   "cell_type": "markdown",
   "metadata": {},
   "source": [
    "Construct a table $L$ of size $k$ where each item in $L$ holds a distinct pair $(x, F(x))$ with $x \\in K$. Sort $L$ according to the second entry in each item of $L$."
   ]
  },
  {
   "cell_type": "code",
   "execution_count": 52,
   "metadata": {
    "ExecuteTime": {
     "end_time": "2022-05-09T07:05:04.158430Z",
     "start_time": "2022-05-09T07:05:04.130802Z"
    }
   },
   "outputs": [
    {
     "data": {
      "text/plain": [
       "[(4, 0), (3, 5), (7, 8)]"
      ]
     },
     "execution_count": 52,
     "metadata": {},
     "output_type": "execute_result"
    }
   ],
   "source": [
    "L = [ (i, F[i]) for i in K]\n",
    "L.sort(key = lambda x: x[1])\n",
    "L"
   ]
  },
  {
   "cell_type": "markdown",
   "metadata": {},
   "source": [
    "Compute $y_0$ = $Grover(H, 1)$ where $H : Y \\rightarrow \\{0,1\\}$ denotes the function defined by $H(y) = 1$ if and only if a pair $(x, G(y))$ appears in $L$ for some arbitrary $x \\in K$."
   ]
  },
  {
   "cell_type": "code",
   "execution_count": 57,
   "metadata": {
    "ExecuteTime": {
     "end_time": "2022-05-09T07:14:19.220867Z",
     "start_time": "2022-05-09T07:14:19.186574Z"
    }
   },
   "outputs": [],
   "source": [
    "def search(y):\n",
    "    \"\"\"\n",
    "    Check whether there exists x ∈ K so that (x, G(y)) ∈ L but x not = y.\n",
    "    Since L is sorted by hashes we use binary search on L.  \n",
    "\n",
    "    Args:\n",
    "        y (int): Input y\n",
    "    Returns:\n",
    "        index (int): Returns the index of x if found, else -1\n",
    "    \n",
    "    \"\"\"\n",
    "    low = 0\n",
    "    high = k-1\n",
    "    \n",
    "    while low <= high:\n",
    "        mid = (low + high)//2\n",
    "        \n",
    "        # (x, G(y)) ∈ L but x not = y\n",
    "        if L[mid][1] == G[y]:\n",
    "            return L[mid][0]\n",
    "        elif (L[mid][1] < G[y]):\n",
    "            low = mid + 1\n",
    "        else:\n",
    "            high = mid - 1\n",
    "    return -1\n",
    "\n",
    "def H_mat():\n",
    "    \"\"\" \n",
    "    Creates a unitary matrix for H: X -> {0, 1}  \n",
    "    \"\"\"\n",
    "    \n",
    "    size = 2**(n+1) # Since |X| = n, we need n+1 qubits\n",
    "    U = np.zeros((size, size)) # Initialize the matrix\n",
    "    \n",
    "    for i in range(size):\n",
    "        \n",
    "        y = i&(2**n-1) # Get x from the first n bits        \n",
    "        res = search(y) \n",
    "        \n",
    "        if res == -1:\n",
    "            U[i][i] = 1\n",
    "        else:\n",
    "            U[i^(2**n)][i] = 1\n",
    "    \n",
    "    print(U)\n",
    "    qc = QuantumCircuit(n+1)\n",
    "    qc.unitary(U,range(n+1))\n",
    "    return qc.to_gate()\n"
   ]
  },
  {
   "cell_type": "markdown",
   "metadata": {},
   "source": [
    "Inverse about the mean gate required for grover search"
   ]
  },
  {
   "cell_type": "code",
   "execution_count": 58,
   "metadata": {
    "ExecuteTime": {
     "end_time": "2022-05-09T07:14:21.495836Z",
     "start_time": "2022-05-09T07:14:21.484592Z"
    }
   },
   "outputs": [],
   "source": [
    "def inv_mean(n):\n",
    "    \"\"\"\n",
    "    Creates a unitary matrix for inv_mean: X -> {0, 1}\n",
    "    Args:\n",
    "        n (int): Maximum number of bits in input\n",
    "    Returns:\n",
    "        inv_mean (QuantumCircuit): inv_mean unitary matrix\n",
    "    \"\"\"\n",
    "    size = 2**(n)\n",
    "    A = np.full((size,size), 1/size)\n",
    "    I = np.identity(size)\n",
    "    inv_mat = -I + 2*A\n",
    "    qc = QuantumCircuit(n)\n",
    "    qc.unitary(inv_mat,range(n))\n",
    "    return qc.to_gate()"
   ]
  },
  {
   "cell_type": "markdown",
   "metadata": {},
   "source": [
    "Compute $y_0$ = $Grover(H, 1)$"
   ]
  },
  {
   "cell_type": "code",
   "execution_count": 59,
   "metadata": {
    "ExecuteTime": {
     "end_time": "2022-05-09T07:14:53.664957Z",
     "start_time": "2022-05-09T07:14:51.946086Z"
    }
   },
   "outputs": [
    {
     "name": "stdout",
     "output_type": "stream",
     "text": [
      "[[1. 0. 0. ... 0. 0. 0.]\n",
      " [0. 1. 0. ... 0. 0. 0.]\n",
      " [0. 0. 1. ... 0. 0. 0.]\n",
      " ...\n",
      " [0. 0. 0. ... 0. 0. 0.]\n",
      " [0. 0. 0. ... 0. 0. 0.]\n",
      " [0. 0. 0. ... 0. 0. 0.]]\n"
     ]
    },
    {
     "data": {
      "image/png": "[encoded data removed]",
      "text/plain": [
       "<Figure size 1290.6x385.28 with 1 Axes>"
      ]
     },
     "execution_count": 59,
     "metadata": {},
     "output_type": "execute_result"
    }
   ],
   "source": [
    "qc = QuantumCircuit(n+1,n)\n",
    "\n",
    "qc.x(n)\n",
    "for i in range(n):\n",
    "    qc.h(i)\n",
    "    \n",
    "qc.barrier()\n",
    "\n",
    "Uf = H_mat()\n",
    "inv_gate = inv_mean(n)\n",
    "\n",
    "num_iterations = int((np.pi/4) * np.ceil(np.sqrt((N)/k)))\n",
    "\n",
    "for i in range(num_iterations):\n",
    "    # Phase Inversion\n",
    "    qc.h(n)\n",
    "    \n",
    "    qc.append(Uf, range(n+1))\n",
    "    qc.barrier()\n",
    "\n",
    "    # Inversion about mean\n",
    "    qc.append(inv_gate, range(n))\n",
    "    qc.barrier()\n",
    "\n",
    "\n",
    "for i in range(n):\n",
    "    qc.measure(i,i)\n",
    "\n",
    "qc.draw('mpl')"
   ]
  },
  {
   "cell_type": "code",
   "execution_count": 60,
   "metadata": {
    "ExecuteTime": {
     "end_time": "2022-05-09T07:14:54.552479Z",
     "start_time": "2022-05-09T07:14:53.837241Z"
    }
   },
   "outputs": [
    {
     "data": {
      "image/png": "[encoded data removed]",
      "text/plain": [
       "<Figure size 504x360 with 1 Axes>"
      ]
     },
     "execution_count": 60,
     "metadata": {},
     "output_type": "execute_result"
    }
   ],
   "source": [
    "shots = 1000\n",
    "simulator = Aer.get_backend('qasm_simulator')\n",
    "res = execute(qc,backend=simulator, shots=shots).result()\n",
    "counts = res.get_counts(qc)\n",
    "plot_histogram(counts)"
   ]
  },
  {
   "cell_type": "code",
   "execution_count": 61,
   "metadata": {
    "ExecuteTime": {
     "end_time": "2022-05-09T07:14:55.798199Z",
     "start_time": "2022-05-09T07:14:55.770982Z"
    }
   },
   "outputs": [
    {
     "data": {
      "text/plain": [
       "[(4, 14), (7, 13), (3, 15)]"
      ]
     },
     "execution_count": 61,
     "metadata": {},
     "output_type": "execute_result"
    }
   ],
   "source": [
    "y0_s = [int(i,2) for i in res.get_counts(qc).keys()]\n",
    "claws = []\n",
    "for y0 in y0_s:\n",
    "    x0 = search(y0)\n",
    "    \n",
    "    if x0 != -1:\n",
    "        claws.append((x0, y0))\n",
    "\n",
    "claws"
   ]
  }
 ],
 "metadata": {
  "interpreter": {
   "hash": "31f2aee4e71d21fbe5cf8b01ff0e069b9275f58929596ceb00d14d90e3e16cd6"
  },
  "kernelspec": {
   "display_name": "Python 3 (ipykernel)",
   "language": "python",
   "name": "python3"
  },
  "language_info": {
   "codemirror_mode": {
    "name": "ipython",
    "version": 3
   },
   "file_extension": ".py",
   "mimetype": "text/x-python",
   "name": "python",
   "nbconvert_exporter": "python",
   "pygments_lexer": "ipython3",
   "version": "3.10.4"
  },
  "latex_envs": {
   "LaTeX_envs_menu_present": true,
   "autoclose": false,
   "autocomplete": true,
   "bibliofile": "biblio.bib",
   "cite_by": "apalike",
   "current_citInitial": 1,
   "eqLabelWithNumbers": true,
   "eqNumInitial": 1,
   "hotkeys": {
    "equation": "Ctrl-E",
    "itemize": "Ctrl-I"
   },
   "labels_anchors": false,
   "latex_user_defs": false,
   "report_style_numbering": false,
   "user_envs_cfg": false
  },
  "toc": {
   "base_numbering": 1,
   "nav_menu": {},
   "number_sections": true,
   "sideBar": true,
   "skip_h1_title": false,
   "title_cell": "Table of Contents",
   "title_sidebar": "Contents",
   "toc_cell": false,
   "toc_position": {},
   "toc_section_display": true,
   "toc_window_display": false
  }
 },
 "nbformat": 4,
 "nbformat_minor": 2
}
