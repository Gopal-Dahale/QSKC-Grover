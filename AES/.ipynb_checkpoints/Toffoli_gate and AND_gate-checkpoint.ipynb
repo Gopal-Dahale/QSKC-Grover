{
 "cells": [
  {
   "cell_type": "markdown",
   "id": "c288f524",
   "metadata": {},
   "source": [
    "## Depths of Toffoli and AND gate"
   ]
  },
  {
   "cell_type": "code",
   "execution_count": 1,
   "id": "96576a5b",
   "metadata": {
    "ExecuteTime": {
     "end_time": "2022-05-09T05:45:33.447964Z",
     "start_time": "2022-05-09T05:45:13.784424Z"
    }
   },
   "outputs": [],
   "source": [
    "from qiskit import *\n",
    "from qiskit import transpile\n",
    "%matplotlib inline"
   ]
  },
  {
   "cell_type": "code",
   "execution_count": 2,
   "id": "a1f33ed9",
   "metadata": {
    "ExecuteTime": {
     "end_time": "2022-05-09T05:45:35.363805Z",
     "start_time": "2022-05-09T05:45:33.454312Z"
    }
   },
   "outputs": [
    {
     "data": {
      "image/png": "[encoded data removed]",
      "text/plain": [
       "<Figure size 146.797x204.68 with 1 Axes>"
      ]
     },
     "execution_count": 2,
     "metadata": {},
     "output_type": "execute_result"
    }
   ],
   "source": [
    "qc = QuantumCircuit(3)\n",
    "qc.toffoli(0,1,2)\n",
    "qc.draw('mpl')"
   ]
  },
  {
   "cell_type": "code",
   "execution_count": 3,
   "id": "23558ca4",
   "metadata": {
    "ExecuteTime": {
     "end_time": "2022-05-09T05:45:44.158374Z",
     "start_time": "2022-05-09T05:45:35.370010Z"
    }
   },
   "outputs": [
    {
     "data": {
      "image/png": "[encoded data removed]",
      "text/plain": [
       "<Figure size 748.797x204.68 with 1 Axes>"
      ]
     },
     "execution_count": 3,
     "metadata": {},
     "output_type": "execute_result"
    }
   ],
   "source": [
    "t_qc= transpile(qc, optimization_level=3)\n",
    "t_qc.draw('mpl')"
   ]
  },
  {
   "cell_type": "code",
   "execution_count": 4,
   "id": "eedcc6d3",
   "metadata": {
    "ExecuteTime": {
     "end_time": "2022-05-09T05:45:44.179967Z",
     "start_time": "2022-05-09T05:45:44.166225Z"
    }
   },
   "outputs": [
    {
     "data": {
      "text/plain": [
       "11"
      ]
     },
     "execution_count": 4,
     "metadata": {},
     "output_type": "execute_result"
    }
   ],
   "source": [
    "t_qc.depth()"
   ]
  },
  {
   "cell_type": "code",
   "execution_count": 5,
   "id": "dcf311a5",
   "metadata": {
    "ExecuteTime": {
     "end_time": "2022-05-09T05:45:45.256601Z",
     "start_time": "2022-05-09T05:45:44.189220Z"
    }
   },
   "outputs": [
    {
     "data": {
      "image/png": "[encoded data removed]",
      "text/plain": [
       "<Figure size 808.997x264.88 with 1 Axes>"
      ]
     },
     "execution_count": 5,
     "metadata": {},
     "output_type": "execute_result"
    }
   ],
   "source": [
    "qc = QuantumCircuit(4)\n",
    "qc.h(2)\n",
    "qc.cnot(1,3)\n",
    "qc.cnot(2,0)\n",
    "qc.cnot(2,1)\n",
    "qc.cnot(0,3)\n",
    "qc.tdg(0)\n",
    "qc.tdg(1)\n",
    "qc.t(2)\n",
    "qc.t(3)\n",
    "qc.cnot(0,3)\n",
    "qc.cnot(2,1)\n",
    "qc.cnot(2,0)\n",
    "qc.cnot(1,3)\n",
    "qc.h(2)\n",
    "qc.s(2)\n",
    "qc.draw('mpl')"
   ]
  },
  {
   "cell_type": "code",
   "execution_count": 7,
   "id": "389fc00c",
   "metadata": {
    "ExecuteTime": {
     "end_time": "2022-05-05T19:59:33.823747Z",
     "start_time": "2022-05-05T19:59:33.815157Z"
    }
   },
   "outputs": [
    {
     "data": {
      "text/plain": [
       "8"
      ]
     },
     "execution_count": 7,
     "metadata": {},
     "output_type": "execute_result"
    }
   ],
   "source": [
    "qc.depth()"
   ]
  }
 ],
 "metadata": {
  "kernelspec": {
   "display_name": "Python 3 (ipykernel)",
   "language": "python",
   "name": "python3"
  },
  "language_info": {
   "codemirror_mode": {
    "name": "ipython",
    "version": 3
   },
   "file_extension": ".py",
   "mimetype": "text/x-python",
   "name": "python",
   "nbconvert_exporter": "python",
   "pygments_lexer": "ipython3",
   "version": "3.10.4"
  },
  "latex_envs": {
   "LaTeX_envs_menu_present": true,
   "autoclose": false,
   "autocomplete": true,
   "bibliofile": "biblio.bib",
   "cite_by": "apalike",
   "current_citInitial": 1,
   "eqLabelWithNumbers": true,
   "eqNumInitial": 1,
   "hotkeys": {
    "equation": "Ctrl-E",
    "itemize": "Ctrl-I"
   },
   "labels_anchors": false,
   "latex_user_defs": false,
   "report_style_numbering": false,
   "user_envs_cfg": false
  },
  "toc": {
   "base_numbering": 1,
   "nav_menu": {},
   "number_sections": true,
   "sideBar": true,
   "skip_h1_title": false,
   "title_cell": "Table of Contents",
   "title_sidebar": "Contents",
   "toc_cell": false,
   "toc_position": {},
   "toc_section_display": true,
   "toc_window_display": false
  }
 },
 "nbformat": 4,
 "nbformat_minor": 5
}
